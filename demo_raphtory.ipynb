{
 "cells": [
  {
   "cell_type": "code",
   "execution_count": 101,
   "id": "28a0c43d-4ab2-4f07-b1a4-7fc5d1a2c811",
   "metadata": {},
   "outputs": [],
   "source": [
    "from raphtory import Graph, graphql, PersistentGraph\n",
    "\n",
    "import raphtory as rp\n",
    "import pandas as pd\n",
    "from utils import merge_intervals\n",
    "from datetime import datetime as dt\n",
    "\n",
    "import matplotlib.pyplot as plt"
   ]
  },
  {
   "cell_type": "code",
   "execution_count": 116,
   "id": "df60cc61-e318-48dd-beca-34bd6aaff0be",
   "metadata": {},
   "outputs": [
    {
     "data": {
      "text/plain": [
       "'0.16.1'"
      ]
     },
     "execution_count": 116,
     "metadata": {},
     "output_type": "execute_result"
    }
   ],
   "source": [
    "rp.__version__"
   ]
  },
  {
   "cell_type": "markdown",
   "id": "a0fe1468-b011-4edb-a98c-6bee68a6d737",
   "metadata": {},
   "source": [
    "**Raphtory** is a temporal network and analytics tool, written in Rust, but you can interact with it using:\n",
    "\n",
    "- Python APIs.\n",
    "- GraphQL: you can start a GraphQL server to interact with your networks\n",
    "- Raphtory UI: WebUI interacting with the GraphQL server\n"
   ]
  },
  {
   "cell_type": "markdown",
   "id": "d0a50856-f4a8-45e4-bf51-96d115a89aef",
   "metadata": {},
   "source": [
    "# Ingest temporal networked data\n",
    "\n",
    "You can build graphs directly in Raphtory or import data in standard formats.\n",
    "\n",
    "Here, we import temporal data from a raw data source, a CSV file, convert it into a Pandas DataFrame and leverage the import function to load the data into a temporal network. Data come from the experiment conducted in the paper [V. Gelardi, J. Godard, D. Paleressompoulle, N. Claidière, A. Barrat, “Measuring social networks in primates: wearable sensors vs. direct observations”, Proc. R. Soc. A 476:20190737 (2020)](https://royalsocietypublishing.org/doi/10.1098/rspa.2019.0737) and are available in the [SocioPatterns repository](http://www.sociopatterns.org/datasets/baboons-interactions/).\n"
   ]
  },
  {
   "cell_type": "code",
   "execution_count": 10,
   "id": "000002a1-7010-49dc-97e6-62bd3b14524f",
   "metadata": {},
   "outputs": [
    {
     "data": {
      "text/html": [
       "<div>\n",
       "<style scoped>\n",
       "    .dataframe tbody tr th:only-of-type {\n",
       "        vertical-align: middle;\n",
       "    }\n",
       "\n",
       "    .dataframe tbody tr th {\n",
       "        vertical-align: top;\n",
       "    }\n",
       "\n",
       "    .dataframe thead th {\n",
       "        text-align: right;\n",
       "    }\n",
       "</style>\n",
       "<table border=\"1\" class=\"dataframe\">\n",
       "  <thead>\n",
       "    <tr style=\"text-align: right;\">\n",
       "      <th></th>\n",
       "      <th>DateTime</th>\n",
       "      <th>Actor</th>\n",
       "      <th>Recipient</th>\n",
       "      <th>Behavior</th>\n",
       "      <th>Category</th>\n",
       "      <th>Weight</th>\n",
       "    </tr>\n",
       "  </thead>\n",
       "  <tbody>\n",
       "    <tr>\n",
       "      <th>15</th>\n",
       "      <td>2019-06-13 09:50:00</td>\n",
       "      <td>ANGELE</td>\n",
       "      <td>FELIPE</td>\n",
       "      <td>Grooming</td>\n",
       "      <td>Affiliative</td>\n",
       "      <td>1</td>\n",
       "    </tr>\n",
       "    <tr>\n",
       "      <th>17</th>\n",
       "      <td>2019-06-13 09:50:00</td>\n",
       "      <td>ANGELE</td>\n",
       "      <td>FELIPE</td>\n",
       "      <td>Grooming</td>\n",
       "      <td>Affiliative</td>\n",
       "      <td>1</td>\n",
       "    </tr>\n",
       "    <tr>\n",
       "      <th>19</th>\n",
       "      <td>2019-06-13 09:51:00</td>\n",
       "      <td>FELIPE</td>\n",
       "      <td>ANGELE</td>\n",
       "      <td>Resting</td>\n",
       "      <td>Affiliative</td>\n",
       "      <td>1</td>\n",
       "    </tr>\n",
       "    <tr>\n",
       "      <th>20</th>\n",
       "      <td>2019-06-13 09:51:00</td>\n",
       "      <td>FELIPE</td>\n",
       "      <td>LIPS</td>\n",
       "      <td>Resting</td>\n",
       "      <td>Affiliative</td>\n",
       "      <td>1</td>\n",
       "    </tr>\n",
       "    <tr>\n",
       "      <th>21</th>\n",
       "      <td>2019-06-13 09:51:00</td>\n",
       "      <td>ANGELE</td>\n",
       "      <td>FELIPE</td>\n",
       "      <td>Grooming</td>\n",
       "      <td>Affiliative</td>\n",
       "      <td>1</td>\n",
       "    </tr>\n",
       "    <tr>\n",
       "      <th>...</th>\n",
       "      <td>...</td>\n",
       "      <td>...</td>\n",
       "      <td>...</td>\n",
       "      <td>...</td>\n",
       "      <td>...</td>\n",
       "      <td>...</td>\n",
       "    </tr>\n",
       "    <tr>\n",
       "      <th>5370</th>\n",
       "      <td>2019-07-10 11:02:00</td>\n",
       "      <td>ARIELLE</td>\n",
       "      <td>LIPS</td>\n",
       "      <td>Touching</td>\n",
       "      <td>Affiliative</td>\n",
       "      <td>1</td>\n",
       "    </tr>\n",
       "    <tr>\n",
       "      <th>5371</th>\n",
       "      <td>2019-07-10 11:05:00</td>\n",
       "      <td>LIPS</td>\n",
       "      <td>NEKKE</td>\n",
       "      <td>Playing with</td>\n",
       "      <td>Affiliative</td>\n",
       "      <td>1</td>\n",
       "    </tr>\n",
       "    <tr>\n",
       "      <th>5372</th>\n",
       "      <td>2019-07-10 11:05:00</td>\n",
       "      <td>LIPS</td>\n",
       "      <td>FELIPE</td>\n",
       "      <td>Resting</td>\n",
       "      <td>Affiliative</td>\n",
       "      <td>1</td>\n",
       "    </tr>\n",
       "    <tr>\n",
       "      <th>5373</th>\n",
       "      <td>2019-07-10 11:05:00</td>\n",
       "      <td>LIPS</td>\n",
       "      <td>NEKKE</td>\n",
       "      <td>Resting</td>\n",
       "      <td>Affiliative</td>\n",
       "      <td>1</td>\n",
       "    </tr>\n",
       "    <tr>\n",
       "      <th>5374</th>\n",
       "      <td>2019-07-10 11:05:00</td>\n",
       "      <td>LIPS</td>\n",
       "      <td>FELIPE</td>\n",
       "      <td>Resting</td>\n",
       "      <td>Affiliative</td>\n",
       "      <td>1</td>\n",
       "    </tr>\n",
       "  </tbody>\n",
       "</table>\n",
       "<p>3196 rows × 6 columns</p>\n",
       "</div>"
      ],
      "text/plain": [
       "                DateTime    Actor Recipient      Behavior     Category  Weight\n",
       "15   2019-06-13 09:50:00   ANGELE    FELIPE      Grooming  Affiliative       1\n",
       "17   2019-06-13 09:50:00   ANGELE    FELIPE      Grooming  Affiliative       1\n",
       "19   2019-06-13 09:51:00   FELIPE    ANGELE       Resting  Affiliative       1\n",
       "20   2019-06-13 09:51:00   FELIPE      LIPS       Resting  Affiliative       1\n",
       "21   2019-06-13 09:51:00   ANGELE    FELIPE      Grooming  Affiliative       1\n",
       "...                  ...      ...       ...           ...          ...     ...\n",
       "5370 2019-07-10 11:02:00  ARIELLE      LIPS      Touching  Affiliative       1\n",
       "5371 2019-07-10 11:05:00     LIPS     NEKKE  Playing with  Affiliative       1\n",
       "5372 2019-07-10 11:05:00     LIPS    FELIPE       Resting  Affiliative       1\n",
       "5373 2019-07-10 11:05:00     LIPS     NEKKE       Resting  Affiliative       1\n",
       "5374 2019-07-10 11:05:00     LIPS    FELIPE       Resting  Affiliative       1\n",
       "\n",
       "[3196 rows x 6 columns]"
      ]
     },
     "execution_count": 10,
     "metadata": {},
     "output_type": "execute_result"
    }
   ],
   "source": [
    "interactions_df = pd.read_csv('data/OBS_data.txt',\n",
    "                              sep = '\\t',\n",
    "                              header = 0,\n",
    "                              usecols = [0,1,2,3,4],\n",
    "                              dayfirst = True,\n",
    "                              parse_dates = [0]\n",
    "                )\n",
    "interactions_df.dropna(axis=0, inplace = True)\n",
    "interactions_df[\"Weight\"] = interactions_df['Category'].apply(\n",
    "    lambda c: 1 if (c == 'Affiliative') else (-1 if (c == 'Agonistic') else 0)\n",
    ")\n",
    "interactions_df"
   ]
  },
  {
   "cell_type": "markdown",
   "id": "2f2afa05-d0a2-4644-90d3-1c91bf5abc9d",
   "metadata": {},
   "source": [
    "As we can see the dataset captures the interactions among a population of primates. In this example we do not consider the duration of the interactions (later we introduce the Raphtory class to support interval graphs)."
   ]
  },
  {
   "cell_type": "markdown",
   "id": "51b18e3e-149d-4b7f-9a5b-ab7794c27730",
   "metadata": {},
   "source": [
    "From a DataFrame, we can create a Raphtory Graph through the method `load_edges_from_pandas`."
   ]
  },
  {
   "cell_type": "code",
   "execution_count": 12,
   "id": "8bae5418-e12b-4771-af80-8bc9510e4db0",
   "metadata": {},
   "outputs": [
    {
     "data": {
      "application/vnd.jupyter.widget-view+json": {
       "model_id": "3259380e620342f9a1d7a08ce09897c4",
       "version_major": 2,
       "version_minor": 0
      },
      "text/plain": [
       "HBox(children=(HTML(value=''), IntProgress(value=0, max=3196), HTML(value='')))"
      ]
     },
     "metadata": {},
     "output_type": "display_data"
    },
    {
     "data": {
      "text/plain": [
       "Graph(number_of_nodes=22, number_of_edges=290, number_of_temporal_edges=3196, earliest_time=1560419400000, latest_time=1562756700000)"
      ]
     },
     "execution_count": 12,
     "metadata": {},
     "output_type": "execute_result"
    }
   ],
   "source": [
    "## Temporal Network Creation\n",
    "temp_net = rp.Graph() # empty graph\n",
    "temp_net.load_edges_from_pandas(\n",
    "    df = interactions_df,\n",
    "    src = 'Actor',\n",
    "    dst = 'Recipient',\n",
    "    time = 'DateTime',\n",
    "    layer_col = 'Behavior',\n",
    "    properties = ['Weight']\n",
    ")\n",
    "temp_net"
   ]
  },
  {
   "cell_type": "markdown",
   "id": "c4454d04-5172-4c9a-acc7-01a10fb722f8",
   "metadata": {},
   "source": [
    "From the above snippet, we highlight three elements:\n",
    "\n",
    "- **Only directed links**: All graphs in Raphtory are directed. When we add a temporal link we are specifying the source node the edge starts from and the destination node the edge ends at, at time $t$.\n",
    "- **Multilayer network**: Raphtory also allows you to represent totally different relationships between the same nodes via `edge layers`. Each edge has a special attribute `layers` which stores the sequences of interactions of the layers the link is in.\n",
    "- **Attributed network**: Raphtory can maintain the changing value of `Properties` associated with nodes and edges. Properties is a dictionary of key-value pairs to be stored at the given timestamp."
   ]
  },
  {
   "cell_type": "markdown",
   "id": "3e1af3b8-9cda-433a-ac7e-8f19bff5c7c3",
   "metadata": {},
   "source": [
    "## Raphtory UI\n",
    "To interact with the temporal network with a more visual approach we have to:\n",
    "\n",
    "1. Create a GraphServer and client by defining a working directory.\n",
    "2. Start the server and get a `RaphtoryClient`.\n",
    "3. Send the relevant graphs to this client (in this case you only have one graph available)."
   ]
  },
  {
   "cell_type": "code",
   "execution_count": 14,
   "id": "64791d55-f0cb-4d81-8d67-76fc437e86d2",
   "metadata": {},
   "outputs": [
    {
     "name": "stdout",
     "output_type": "stream",
     "text": [
      "  \u001b[2m2025-09-06T07:56:27.837441Z\u001b[0m \u001b[32m INFO\u001b[0m \u001b[1;32mraphtory_graphql::server\u001b[0m\u001b[32m: \u001b[32mPlayground live at: http://0.0.0.0:1736\u001b[0m\n",
      "    \u001b[2;3mat\u001b[0m raphtory-graphql/src/server.rs:208\n",
      "\n"
     ]
    }
   ],
   "source": [
    "server = graphql.GraphServer('graphql_server/')\n",
    "client = server.start().get_client()"
   ]
  },
  {
   "cell_type": "code",
   "execution_count": 15,
   "id": "e1dd3fb5-3903-46ae-b33f-f7fee19b4f43",
   "metadata": {},
   "outputs": [],
   "source": [
    "client.send_graph('Primates_tempnet', temp_net, overwrite = True)"
   ]
  },
  {
   "cell_type": "markdown",
   "id": "efac68bd-9b72-4f74-9f18-06145ea9ca70",
   "metadata": {},
   "source": [
    "# Interval Graph\n",
    "\n",
    "In the previous section, we utilized the link stream representation without considering the durations of the interactions, i.e., we only focused on events thought of as instantaneous. To enable persistent interactions, i.e., events with a duration, Raphtory provides an additional graph representation where edges can be added, removed, and added back again, called the `PersistentGraph`. The `PersistenGraph` implements the Interval Graph representation (see slides).\n",
    "\n",
    "To insert interactions with a duration, Raphtory adopts an approach less intuitive w.r.t. a simple link insertion requiring the start and the end points of the intervals. For instance,\n",
    "``` python\n",
    "g.add_edge('A','B', start = 3, end = 5)\n",
    "```\n",
    "\n",
    "Since the Raphtory's model is based on a sequence of events, to add an ''interval'' link, we have to add to link event:\n",
    "- link insertion at a timestamp $t_{start}$\n",
    "- link removal at a timestamp $t_{end}$\n",
    "\n",
    "Here we leverage the methods in Pandas to deal with timestamp and deltatime. We add a new column -`EndTime`-to the DataFrame and leverage the methods of `PersistentGraph` class: \n",
    "\n",
    "- `load_edges_from_pandas`\n",
    "- `load_edge_deletions_from_pandas`"
   ]
  },
  {
   "cell_type": "code",
   "execution_count": 80,
   "id": "be654ac2-07b9-4352-907e-0574e572a92a",
   "metadata": {},
   "outputs": [],
   "source": [
    "interactions_df = pd.read_csv(\n",
    "    'data/OBS_data.txt',\n",
    "    sep = '\\t',\n",
    "    header = 0,\n",
    "    usecols = [0,1,2,3,4,5],\n",
    "    dayfirst = True,\n",
    "    parse_dates = [0]\n",
    ")\n",
    "interactions_df.dropna(axis=0, inplace = True)\n",
    "interactions_df['Weight'] = interactions_df['Category'].apply(\n",
    "    lambda c: 1 if (c == 'Affiliative') else (-1 if (c == 'Agonistic') else 0)\n",
    ")\n",
    "interactions_df['EndTime'] = interactions_df[\"DateTime\"] + pd.to_timedelta(interactions_df[\"Duration\"], unit=\"m\")\n",
    "interactions_df['start'] = interactions_df[\"DateTime\"].astype(\"int64\") // 10**6\n",
    "interactions_df['end'] = interactions_df[\"EndTime\"].astype(\"int64\") // 10**6\n",
    "# For each distinct triple (actor, recipient, behavior)\n",
    "# 1. build the list of intervals\n",
    "# 2. make the union of the intervals so that we get a set of disjoint intervals in ascending order -> depends on how Raphtory handles the insertion of intervals\n",
    "interval_data = (interactions_df.groupby([\"Actor\", \"Recipient\", \"Behavior\"], as_index=False)\n",
    "    .agg(Intervals=(\"start\", lambda s: merge_intervals(list(zip(s, interactions_df.loc[s.index, \"end\"])))))\n",
    "    .reset_index()\n",
    ")\n",
    "tmp = interval_data.explode(\"Intervals\").reset_index(drop=True)\n",
    "intervals_df = pd.DataFrame(tmp[\"Intervals\"].tolist(), columns=[\"start\", \"end\"])\n",
    "interactions_df = pd.concat([tmp.drop(columns=\"Intervals\"), intervals_df], axis=1)"
   ]
  },
  {
   "cell_type": "markdown",
   "id": "6cdddd77-ff50-41de-ab76-99401c76d777",
   "metadata": {},
   "source": [
    "Creation of the `PersistentGraph`"
   ]
  },
  {
   "cell_type": "code",
   "execution_count": 81,
   "id": "76ba1165-c870-474c-96bb-3444557e9709",
   "metadata": {},
   "outputs": [
    {
     "data": {
      "application/vnd.jupyter.widget-view+json": {
       "model_id": "bca4593da9fc4f3986a82bb055a8ea4a",
       "version_major": 2,
       "version_minor": 0
      },
      "text/plain": [
       "HBox(children=(HTML(value=''), IntProgress(value=0, max=2052), HTML(value='')))"
      ]
     },
     "metadata": {},
     "output_type": "display_data"
    },
    {
     "data": {
      "application/vnd.jupyter.widget-view+json": {
       "model_id": "149fc8301f7b46e794054c5aa336fd40",
       "version_major": 2,
       "version_minor": 0
      },
      "text/plain": [
       "HBox(children=(HTML(value=''), IntProgress(value=0, max=2052), HTML(value='')))"
      ]
     },
     "metadata": {},
     "output_type": "display_data"
    }
   ],
   "source": [
    "interval_graph = PersistentGraph()\n",
    "interval_graph.load_edges_from_pandas(\n",
    "    df = interactions_df,\n",
    "    src = 'Actor',\n",
    "    dst = 'Recipient',\n",
    "    time = 'start',\n",
    "    layer_col = 'Behavior'\n",
    ")\n",
    "interval_graph.load_edge_deletions_from_pandas(\n",
    "    df = interactions_df,\n",
    "    src = 'Actor',\n",
    "    dst = 'Recipient',\n",
    "    time = 'end',\n",
    "    layer_col = 'Behavior'\n",
    ")"
   ]
  },
  {
   "cell_type": "code",
   "execution_count": 82,
   "id": "74e0be76-4662-4183-8929-560ddfb0fc3c",
   "metadata": {},
   "outputs": [
    {
     "data": {
      "text/plain": [
       "Graph(number_of_nodes=22, number_of_edges=290, number_of_temporal_edges=2052, earliest_time=1560419400000, latest_time=1562772720000)"
      ]
     },
     "execution_count": 82,
     "metadata": {},
     "output_type": "execute_result"
    }
   ],
   "source": [
    "interval_graph"
   ]
  },
  {
   "cell_type": "code",
   "execution_count": 91,
   "id": "2d5e639c-62c5-4126-a234-4ffa803af3aa",
   "metadata": {},
   "outputs": [
    {
     "name": "stdout",
     "output_type": "stream",
     "text": [
      "FELIPE interacted with ANGELE with the following behaviour 'Resting' at this times: [1560419460.0, 1560437460.0, 1560506760.0, 1560769320.0, 1560865320.0, 1560935520.0, 1561029420.0, 1561117740.0, 1561373880.0, 1561390860.0, 1562321400.0, 1562331720.0, 1562586360.0, 1562671020.0, 1562754600.0]:15\n",
      "FELIPE interacted with ANGELE with the following behaviour 'Embracing' at this times: [1560526320.0]:1\n",
      "FELIPE interacted with ANGELE with the following behaviour 'Presenting' at this times: [1562321580.0]:1\n",
      "FELIPE interacted with ANGELE with the following behaviour 'Grunting-Lipsmacking' at this times: [1560526320.0, 1561972860.0, 1562253540.0]:3\n",
      "FELIPE interacted with ANGELE with the following behaviour 'Supplanting' at this times: [1561110180.0]:1\n",
      "FELIPE interacted with ANGELE with the following behaviour 'Mounting' at this times: [1562253540.0]:1\n",
      "FELIPE interacted with ANGELE with the following behaviour 'Submission' at this times: [1562057520.0]:1\n",
      "FELIPE interacted with ANGELE with the following behaviour 'Touching' at this times: [1560526260.0, 1562253540.0, 1562321580.0]:3\n",
      "FELIPE interacted with ANGELE with the following behaviour 'Chasing' at this times: [1562057520.0, 1562671200.0]:2\n"
     ]
    }
   ],
   "source": [
    "for e in interval_graph.edge(\"FELIPE\", \"ANGELE\").explode_layers():\n",
    "    e_history = [date.timestamp() for date in e.history_date_time()]\n",
    "    print(f\"{e.src.name} interacted with {e.dst.name} with the following behaviour '{e.layer_name}' at this times: {e_history}:{len(e_history)}\")"
   ]
  },
  {
   "cell_type": "markdown",
   "id": "b47baa32-7374-40ae-bcb9-6fd6df557908",
   "metadata": {},
   "source": [
    "# Sequence of graphs\n",
    "\n",
    "In Raphtory, `Graph Views` provide a way to look at a subset of this data without having to re-ingest it. By `Graph Views`, we can decompose the evolution of a temporal network into snapshots. Moreover, the Raphtory's design provides that all functions that can be called on a graph, node, or edge can also be applied to a Graph View.\n",
    "\n",
    "Raphtory provides six functions: `before()`, `at()`, `after()`, `window()`, `expand()` and `rolling()` for traveling through time and viewing a graph as it was at a specific point, or between two points (applying a time window). All of these functions can be **called on a graph, node, or edge**, returning an equivalent Graph View, Node View or Edge View.\n",
    "\n",
    "To get a sequence of Graph Views, the primitive function is `window()`. This is a more general version of the functions `before()`, `at()`, `after()`, allowing to set both a `start` time as well as an `end` time, inclusive of the start and exclusive of the end time."
   ]
  },
  {
   "cell_type": "code",
   "execution_count": 95,
   "id": "9ec65c6b-dc28-44ba-9e6a-ce5d70394ef6",
   "metadata": {},
   "outputs": [
    {
     "data": {
      "text/plain": [
       "Graph(number_of_nodes=19, number_of_edges=77, number_of_temporal_edges=117, earliest_time=1560419400000, latest_time=1560460200000)"
      ]
     },
     "execution_count": 95,
     "metadata": {},
     "output_type": "execute_result"
    }
   ],
   "source": [
    "start_day = dt.strptime(\"2019-06-13\", \"%Y-%m-%d\")\n",
    "end_day = dt.strptime(\"2019-06-14\", \"%Y-%m-%d\")\n",
    "snapshot_1 = interval_graph.window(start_day, end_day)\n",
    "snapshot_1"
   ]
  },
  {
   "cell_type": "markdown",
   "id": "bb8ab0f3-81ba-4abd-8abd-103d6e10cd70",
   "metadata": {},
   "source": [
    "Finally, we obtain a sequence of snapshot graphs by the function `rolling()`. You can use rolling() to create a rolling window. This function will return an iterable of views, incrementing by a window size and only including the history from inside the window period, inclusive of start, exclusive of end. This allows you to easily extract daily or monthly metrics."
   ]
  },
  {
   "cell_type": "code",
   "execution_count": 98,
   "id": "d8d470a9-7b4e-4542-b13d-b610317bfb81",
   "metadata": {},
   "outputs": [
    {
     "name": "stdout",
     "output_type": "stream",
     "text": [
      "Graph(number_of_nodes=19, number_of_edges=87, number_of_temporal_edges=137, earliest_time=1560419400000, latest_time=1560505680000)\n",
      "Graph(number_of_nodes=20, number_of_edges=71, number_of_temporal_edges=103, earliest_time=1560505800000, latest_time=1560542040000)\n",
      "Graph(number_of_nodes=0, number_of_edges=0, number_of_temporal_edges=0, earliest_time=None, latest_time=None)\n",
      "Graph(number_of_nodes=8, number_of_edges=8, number_of_temporal_edges=9, earliest_time=1560764340000, latest_time=1560764820000)\n",
      "Graph(number_of_nodes=19, number_of_edges=67, number_of_temporal_edges=106, earliest_time=1560765000000, latest_time=1560851340000)\n",
      "Graph(number_of_nodes=18, number_of_edges=78, number_of_temporal_edges=133, earliest_time=1560851400000, latest_time=1560937680000)\n",
      "Graph(number_of_nodes=19, number_of_edges=63, number_of_temporal_edges=84, earliest_time=1560937800000, latest_time=1560963120000)\n",
      "Graph(number_of_nodes=20, number_of_edges=70, number_of_temporal_edges=105, earliest_time=1561024800000, latest_time=1561110480000)\n",
      "Graph(number_of_nodes=19, number_of_edges=86, number_of_temporal_edges=140, earliest_time=1561110600000, latest_time=1561139040000)\n",
      "Graph(number_of_nodes=0, number_of_edges=0, number_of_temporal_edges=0, earliest_time=None, latest_time=None)\n",
      "Graph(number_of_nodes=2, number_of_edges=1, number_of_temporal_edges=2, earliest_time=1561369500000, latest_time=1561369560000)\n",
      "Graph(number_of_nodes=19, number_of_edges=61, number_of_temporal_edges=96, earliest_time=1561370100000, latest_time=1561406940000)\n",
      "Graph(number_of_nodes=19, number_of_edges=101, number_of_temporal_edges=168, earliest_time=1561457700000, latest_time=1561542240000)\n",
      "Graph(number_of_nodes=19, number_of_edges=76, number_of_temporal_edges=105, earliest_time=1561542600000, latest_time=1561628940000)\n",
      "Graph(number_of_nodes=19, number_of_edges=46, number_of_temporal_edges=59, earliest_time=1561629000000, latest_time=1561660380000)\n",
      "Graph(number_of_nodes=17, number_of_edges=43, number_of_temporal_edges=64, earliest_time=1561716900000, latest_time=1561737240000)\n",
      "Graph(number_of_nodes=0, number_of_edges=0, number_of_temporal_edges=0, earliest_time=None, latest_time=None)\n",
      "Graph(number_of_nodes=18, number_of_edges=37, number_of_temporal_edges=43, earliest_time=1561970100000, latest_time=1561974240000)\n",
      "Graph(number_of_nodes=19, number_of_edges=62, number_of_temporal_edges=86, earliest_time=1561974600000, latest_time=1562060820000)\n",
      "Graph(number_of_nodes=19, number_of_edges=63, number_of_temporal_edges=102, earliest_time=1562061000000, latest_time=1562147280000)\n",
      "Graph(number_of_nodes=19, number_of_edges=67, number_of_temporal_edges=116, earliest_time=1562147400000, latest_time=1562233740000)\n",
      "Graph(number_of_nodes=19, number_of_edges=74, number_of_temporal_edges=110, earliest_time=1562233800000, latest_time=1562270220000)\n",
      "Graph(number_of_nodes=19, number_of_edges=73, number_of_temporal_edges=114, earliest_time=1562320200000, latest_time=1562347740000)\n",
      "Graph(number_of_nodes=0, number_of_edges=0, number_of_temporal_edges=0, earliest_time=None, latest_time=None)\n",
      "Graph(number_of_nodes=0, number_of_edges=0, number_of_temporal_edges=0, earliest_time=None, latest_time=None)\n",
      "Graph(number_of_nodes=19, number_of_edges=75, number_of_temporal_edges=107, earliest_time=1562583300000, latest_time=1562615700000)\n",
      "Graph(number_of_nodes=20, number_of_edges=76, number_of_temporal_edges=123, earliest_time=1562665980000, latest_time=1562752020000)\n",
      "Graph(number_of_nodes=18, number_of_edges=40, number_of_temporal_edges=55, earliest_time=1562752200000, latest_time=1562772720000)\n"
     ]
    }
   ],
   "source": [
    "for snapshot in interval_graph.rolling('1 day'):\n",
    "    print(snapshot)"
   ]
  },
  {
   "cell_type": "code",
   "execution_count": 103,
   "id": "d50d0643-30c5-4e31-8a43-41a7a37cda78",
   "metadata": {},
   "outputs": [
    {
     "data": {
      "image/png": "[encoded data removed]",
      "text/plain": [
       "<Figure size 640x480 with 1 Axes>"
      ]
     },
     "metadata": {},
     "output_type": "display_data"
    }
   ],
   "source": [
    "importance = []\n",
    "time = []\n",
    "for rolling_lome in interval_graph.node(\"LOME\").rolling(\"1 day\"):\n",
    "    importance.append(rolling_lome.degree())\n",
    "    time.append(rolling_lome.end_date_time)\n",
    "\n",
    "plt.plot(time, importance, marker=\"o\")\n",
    "plt.xlabel(\"Date\")\n",
    "plt.xticks(rotation=45)\n",
    "plt.ylabel(\"Daily Unique Interactions\")\n",
    "plt.title(\"Lome's daily interaction count\")\n",
    "plt.grid(True)"
   ]
  },
  {
   "cell_type": "code",
   "execution_count": 115,
   "id": "217a1889-c43a-4037-8d65-f787eddcab37",
   "metadata": {},
   "outputs": [
    {
     "data": {
      "image/png": "[encoded data removed]",
      "text/plain": [
       "<Figure size 640x480 with 1 Axes>"
      ]
     },
     "metadata": {},
     "output_type": "display_data"
    }
   ],
   "source": [
    "time = []\n",
    "num_interactions = []\n",
    "for interaction_snapshot in interval_graph.edge('FELIPE','ANGELE').rolling('1 day'):\n",
    "    num_interactions.append(len(interaction_snapshot.explode()))\n",
    "    time.append(interaction_snapshot.end_date_time)\n",
    "plt.plot(time, num_interactions, marker=\"o\")\n",
    "plt.xlabel(\"Date\")\n",
    "plt.xticks(rotation=45)\n",
    "plt.ylabel(\"Daily Interactions\")\n",
    "plt.title(\"Felipe and Angele's daily interaction count\")\n",
    "plt.grid(True)"
   ]
  },
  {
   "cell_type": "code",
   "execution_count": null,
   "id": "9078836d-926f-4a8b-93b2-c1acfe1dfa45",
   "metadata": {},
   "outputs": [],
   "source": []
  }
 ],
 "metadata": {
  "kernelspec": {
   "display_name": "Python 3 (ipykernel)",
   "language": "python",
   "name": "python3"
  },
  "language_info": {
   "codemirror_mode": {
    "name": "ipython",
    "version": 3
   },
   "file_extension": ".py",
   "mimetype": "text/x-python",
   "name": "python",
   "nbconvert_exporter": "python",
   "pygments_lexer": "ipython3",
   "version": "3.11.11"
  }
 },
 "nbformat": 4,
 "nbformat_minor": 5
}
